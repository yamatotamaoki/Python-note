{
 "cells": [
  {
   "cell_type": "code",
   "execution_count": 95,
   "metadata": {},
   "outputs": [],
   "source": [
    "import numpy as np\n",
    "import matplotlib.pyplot as plt \n",
    "import pandas as pd\n",
    "import math"
   ]
  },
  {
   "cell_type": "code",
   "execution_count": 2,
   "metadata": {},
   "outputs": [
    {
     "data": {
      "text/plain": [
       "array([0, 1, 2, 3, 4, 5, 6, 7, 8, 9])"
      ]
     },
     "execution_count": 2,
     "metadata": {},
     "output_type": "execute_result"
    }
   ],
   "source": [
    "#arange()関数を使って0〜9の配列を作る\n",
    "np.arange(10)"
   ]
  },
  {
   "cell_type": "code",
   "execution_count": 5,
   "metadata": {},
   "outputs": [
    {
     "data": {
      "text/plain": [
       "array([[ 0,  1,  2,  3],\n",
       "       [ 4,  5,  6,  7],\n",
       "       [ 8,  9, 10, 11]])"
      ]
     },
     "execution_count": 5,
     "metadata": {},
     "output_type": "execute_result"
    }
   ],
   "source": [
    "#n x mの配列を作る\n",
    "n = 3 #n行\n",
    "m = 4 #m列\n",
    "\n",
    "np.arange(n * m).reshape(n,m)"
   ]
  },
  {
   "cell_type": "code",
   "execution_count": 6,
   "metadata": {},
   "outputs": [
    {
     "data": {
      "text/plain": [
       "array([10, 12, 14, 16, 18])"
      ]
     },
     "execution_count": 6,
     "metadata": {},
     "output_type": "execute_result"
    }
   ],
   "source": [
    "#10以上20未満の偶数の配列\n",
    "np.arange(10,20,2) #10から2ずつ増えるので偶数の配列になる"
   ]
  },
  {
   "cell_type": "code",
   "execution_count": 8,
   "metadata": {},
   "outputs": [
    {
     "data": {
      "text/plain": [
       "array([0. , 0.5, 1. , 1.5, 2. , 2.5, 3. , 3.5, 4. , 4.5, 5. , 5.5, 6. ,\n",
       "       6.5, 7. , 7.5, 8. , 8.5, 9. , 9.5])"
      ]
     },
     "execution_count": 8,
     "metadata": {},
     "output_type": "execute_result"
    }
   ],
   "source": [
    "#開始値は省略し0.5刻みのステップを指定する\n",
    "np.arange(10,step=0.5)"
   ]
  },
  {
   "cell_type": "code",
   "execution_count": 10,
   "metadata": {},
   "outputs": [
    {
     "name": "stdout",
     "output_type": "stream",
     "text": [
      "[[1 2 3]\n",
      " [4 5 6]]\n",
      "[[1 2 9]\n",
      " [4 8 6]]\n",
      "[[ True  True False]\n",
      " [ True False  True]]\n"
     ]
    }
   ],
   "source": [
    "#行列A,Bの要素が同じかどうかを比較する\n",
    "A = np.array([1,2,3,4,5,6]).reshape(2,3)\n",
    "B = np.array([1,2,9,4,8,6]).reshape(2,3)\n",
    "\n",
    "print(A)\n",
    "print(B)\n",
    "\n",
    "C = (A == B) #AとBを比較した結果の配列Cを作る\n",
    "print(C)"
   ]
  },
  {
   "cell_type": "code",
   "execution_count": 9,
   "metadata": {},
   "outputs": [
    {
     "name": "stdout",
     "output_type": "stream",
     "text": [
      "2\n"
     ]
    }
   ],
   "source": [
    "#行列A,Bを比較して要素が異なる個数を数える\n",
    "A = np.array([1,2,3,4,5,6]).reshape(2,3)\n",
    "B = np.array([1,2,9,4,8,6]).reshape(2,3)\n",
    "n = (A != B).sum() #要素が異なる数を数える\n",
    "print(n)"
   ]
  },
  {
   "cell_type": "code",
   "execution_count": 11,
   "metadata": {},
   "outputs": [
    {
     "data": {
      "text/plain": [
       "array([  0.,   8.,  16.,  24.,  32.,  40.,  48.,  56.,  64.,  72.,  80.,\n",
       "        88.,  96., 104., 112., 120.])"
      ]
     },
     "execution_count": 11,
     "metadata": {},
     "output_type": "execute_result"
    }
   ],
   "source": [
    "#numpy.linspace()関数を使って0~120を16分割した配列を作る\n",
    "np.linspace(0,120,16)"
   ]
  },
  {
   "cell_type": "code",
   "execution_count": 18,
   "metadata": {},
   "outputs": [
    {
     "data": {
      "text/plain": [
       "array([[0, 0],\n",
       "       [0, 0],\n",
       "       [0, 0]])"
      ]
     },
     "execution_count": 18,
     "metadata": {},
     "output_type": "execute_result"
    }
   ],
   "source": [
    "#empty()関数にて初期化していない値がint型で3行3列の行列を作成する\n",
    "Data = np.empty((3,2),dtype = int)\n",
    "Data"
   ]
  },
  {
   "cell_type": "code",
   "execution_count": 20,
   "metadata": {},
   "outputs": [
    {
     "name": "stdout",
     "output_type": "stream",
     "text": [
      "[[1. 0. 0. 0.]\n",
      " [0. 1. 0. 0.]\n",
      " [0. 0. 1. 0.]\n",
      " [0. 0. 0. 1.]]\n"
     ]
    }
   ],
   "source": [
    "#identity()またはeye()関数で4行4列の単位行列を作る\n",
    "E = np.identity(4)\n",
    "print(E)"
   ]
  },
  {
   "cell_type": "code",
   "execution_count": 22,
   "metadata": {},
   "outputs": [
    {
     "name": "stdout",
     "output_type": "stream",
     "text": [
      "[[1. 0. 0.]\n",
      " [0. 1. 0.]\n",
      " [0. 0. 1.]]\n"
     ]
    }
   ],
   "source": [
    "#eye()関数を使って単位行列を作る\n",
    "E = np.eye(3)\n",
    "print(E)"
   ]
  },
  {
   "cell_type": "code",
   "execution_count": 23,
   "metadata": {},
   "outputs": [
    {
     "name": "stdout",
     "output_type": "stream",
     "text": [
      "[[1 0 0]\n",
      " [0 1 0]\n",
      " [0 0 1]]\n"
     ]
    }
   ],
   "source": [
    "#整数値の単位行列を作る\n",
    "E = np.identity(3,dtype = int)\n",
    "print(E)"
   ]
  },
  {
   "cell_type": "code",
   "execution_count": 25,
   "metadata": {},
   "outputs": [
    {
     "name": "stdout",
     "output_type": "stream",
     "text": [
      "[0 0 0 0 0 0 0 0 0]\n"
     ]
    }
   ],
   "source": [
    "#zeros()関数にて0が10個埋まった配列を作る\n",
    "ZERO = np.zeros(9,dtype = int)\n",
    "print(ZERO)"
   ]
  },
  {
   "cell_type": "code",
   "execution_count": 26,
   "metadata": {},
   "outputs": [
    {
     "name": "stdout",
     "output_type": "stream",
     "text": [
      "[1 1 1 1 1 1 1 1 1]\n"
     ]
    }
   ],
   "source": [
    "#1が10個埋まった配列を作る\n",
    "ONE = np.ones(9,dtype = int)\n",
    "print(ONE)"
   ]
  },
  {
   "cell_type": "code",
   "execution_count": 27,
   "metadata": {},
   "outputs": [
    {
     "name": "stdout",
     "output_type": "stream",
     "text": [
      "[[1 1 1]\n",
      " [1 1 1]]\n"
     ]
    }
   ],
   "source": [
    "#全てが整数1の2行3列の配列を作る\n",
    "ONE = np.ones((2,3),dtype = int)\n",
    "print(ONE)"
   ]
  },
  {
   "cell_type": "code",
   "execution_count": 28,
   "metadata": {},
   "outputs": [
    {
     "data": {
      "text/plain": [
       "array([1, 1, 1, 2, 2, 2, 3, 3, 3])"
      ]
     },
     "execution_count": 28,
     "metadata": {},
     "output_type": "execute_result"
    }
   ],
   "source": [
    "#repeat()関数にて要素を3回繰り返す\n",
    "data = np.array([1,2,3])\n",
    "data.repeat(3) #同じ要素を3回繰り返す"
   ]
  },
  {
   "cell_type": "code",
   "execution_count": 31,
   "metadata": {},
   "outputs": [
    {
     "data": {
      "text/plain": [
       "array([[0, 1, 2],\n",
       "       [0, 1, 2],\n",
       "       [0, 1, 2],\n",
       "       [3, 4, 5],\n",
       "       [3, 4, 5],\n",
       "       [3, 4, 5]])"
      ]
     },
     "execution_count": 31,
     "metadata": {},
     "output_type": "execute_result"
    }
   ],
   "source": [
    "#繰り返す方向を指定した列\n",
    "data = np.arange(6).reshape(2,3)\n",
    "data\n",
    "data.repeat(2,axis = 1)\n",
    "data.repeat(3,axis = 0)"
   ]
  },
  {
   "cell_type": "code",
   "execution_count": 45,
   "metadata": {},
   "outputs": [
    {
     "data": {
      "image/png": "[encoded data removed]",
      "text/plain": [
       "<Figure size 432x288 with 1 Axes>"
      ]
     },
     "metadata": {
      "needs_background": "light"
     },
     "output_type": "display_data"
    }
   ],
   "source": [
    "#random.rand()関数で乱数の配列を作成しscatter()関数で散布図を描く\n",
    "X = np.random.rand(100)\n",
    "Y = np.random.rand(100)\n",
    "plt.scatter(X,Y,marker = \"o\",color = \"g\")\n",
    "plt.xlabel(\"X\")\n",
    "plt.ylabel(\"Y\")\n",
    "plt.savefig(\"p377.png\")\n",
    "plt.show()"
   ]
  },
  {
   "cell_type": "code",
   "execution_count": 68,
   "metadata": {},
   "outputs": [
    {
     "name": "stdout",
     "output_type": "stream",
     "text": [
      "[[49.84894471 53.86354366 45.22040295]\n",
      " [47.92606084 49.7569109  49.36497951]]\n"
     ]
    },
    {
     "data": {
      "image/png": "[encoded data removed]",
      "text/plain": [
       "<Figure size 432x288 with 1 Axes>"
      ]
     },
     "metadata": {
      "needs_background": "light"
     },
     "output_type": "display_data"
    }
   ],
   "source": [
    "#random.randn()関数を使って正規分布の3X2の配列を作る\n",
    "sigma = 2.5 #分布\n",
    "mu = 50 #平均\n",
    "data = sigma * np.random.randn(2,3) + mu #正規分布の乱数\n",
    "print(data)\n",
    "data1 = data[0,0]\n",
    "data2 = data[0,1]\n",
    "data3 = data[0,2]\n",
    "data4 = data[1,0]\n",
    "data5 = data[1,1]\n",
    "data6 = data[1,2]\n",
    "plt.bar(data1,data3,color = \"y\")\n",
    "plt.bar(data2,data4,color = \"r\")\n",
    "plt.bar(data5,data6,color = \"b\")\n",
    "plt.xlabel(\"tama\")\n",
    "plt.ylabel(\"oki\")\n",
    "plt.savefig(\"p378.png\")\n",
    "plt.show()"
   ]
  },
  {
   "cell_type": "code",
   "execution_count": 70,
   "metadata": {},
   "outputs": [
    {
     "data": {
      "text/plain": [
       "array([[ 6,  8, 10],\n",
       "       [ 8, 10,  9]])"
      ]
     },
     "execution_count": 70,
     "metadata": {},
     "output_type": "execute_result"
    }
   ],
   "source": [
    "#二項分布の乱数\n",
    "np.random.binomial(n = 100,p = 0.1,size = (2,3))"
   ]
  },
  {
   "cell_type": "code",
   "execution_count": 74,
   "metadata": {},
   "outputs": [
    {
     "data": {
      "text/plain": [
       "array([12, 15, 14,  8,  8,  6,  6, 13, 12, 10])"
      ]
     },
     "execution_count": 74,
     "metadata": {},
     "output_type": "execute_result"
    }
   ],
   "source": [
    "#ポアソン分布の乱数\n",
    "np.random.poisson(lam=10,size=(10))\n"
   ]
  },
  {
   "cell_type": "code",
   "execution_count": 79,
   "metadata": {},
   "outputs": [
    {
     "data": {
      "image/png": "[encoded data removed]",
      "text/plain": [
       "<Figure size 432x288 with 1 Axes>"
      ]
     },
     "metadata": {
      "needs_background": "light"
     },
     "output_type": "display_data"
    }
   ],
   "source": [
    "#ポアソン分布をヒストグラムで表示する\n",
    "#ポアソン分布（平均50、1000個）\n",
    "data = np.random.poisson(lam = 50,size = 1000)\n",
    "count,bins_edges,patches = plt.hist(data,color=\"r\",bins = 100) #ヒストグラム\n",
    "plt.grid()\n",
    "plt.xlabel(\"tamaoki\")\n",
    "plt.ylabel(\"yamato\")\n",
    "plt.savefig(\"hist\")\n",
    "plt.show()"
   ]
  },
  {
   "cell_type": "code",
   "execution_count": 87,
   "metadata": {},
   "outputs": [
    {
     "data": {
      "text/plain": [
       "array([ 1.3315865 ,  0.71527897, -1.54540029])"
      ]
     },
     "execution_count": 87,
     "metadata": {},
     "output_type": "execute_result"
    }
   ],
   "source": [
    "#random.seed()関数にて同じ乱数を再現する\n",
    "np.random.seed(10) #ランダムシードを設定する\n",
    "np.random.randn(3) #乱数を発生\n",
    "\n",
    "np.random.seed(10) #同じランダムシードを設定する\n",
    "np.random.randn(3) #同じ乱数が作られる"
   ]
  },
  {
   "cell_type": "code",
   "execution_count": 91,
   "metadata": {},
   "outputs": [
    {
     "data": {
      "text/plain": [
       "array([[3, 4, 5],\n",
       "       [6, 7, 8],\n",
       "       [0, 1, 2]])"
      ]
     },
     "execution_count": 91,
     "metadata": {},
     "output_type": "execute_result"
    }
   ],
   "source": [
    "#random.shuffle()関数を使って配列の並びをシャッフルする\n",
    "data = np.arange(9).reshape(3,3)\n",
    "np.random.shuffle(data)\n",
    "data"
   ]
  },
  {
   "cell_type": "code",
   "execution_count": 94,
   "metadata": {},
   "outputs": [
    {
     "data": {
      "text/plain": [
       "array([[10.,  8., 12., 13.],\n",
       "       [ 9.,  6.,  3.,  8.],\n",
       "       [ 8., 10., 41., 26.]])"
      ]
     },
     "execution_count": 94,
     "metadata": {},
     "output_type": "execute_result"
    }
   ],
   "source": [
    "#data.csvを読み込んで配列を作る\n",
    "data = np.loadtxt(\"data.csv\",delimiter=\",\",skiprows = 1) #delimiter(,区切りを読み込む),skiprows(1行目を読み込まない)\n",
    "data"
   ]
  },
  {
   "cell_type": "code",
   "execution_count": 98,
   "metadata": {},
   "outputs": [
    {
     "data": {
      "text/plain": [
       "array([[10,  8, 12, 13],\n",
       "       [ 9,  6,  3,  8],\n",
       "       [ 8, 10, 41, 26]])"
      ]
     },
     "execution_count": 98,
     "metadata": {},
     "output_type": "execute_result"
    }
   ],
   "source": [
    "df = pd.read_csv(\"data.csv\") #CSVファイルを読み込む\n",
    "header = df.columns.values #ヘッダ行\n",
    "data = df.values #データ行\n",
    "header\n",
    "data"
   ]
  },
  {
   "cell_type": "code",
   "execution_count": null,
   "metadata": {},
   "outputs": [],
   "source": []
  },
  {
   "cell_type": "code",
   "execution_count": null,
   "metadata": {},
   "outputs": [],
   "source": []
  }
 ],
 "metadata": {
  "kernelspec": {
   "display_name": "Python 3",
   "language": "python",
   "name": "python3"
  },
  "language_info": {
   "codemirror_mode": {
    "name": "ipython",
    "version": 3
   },
   "file_extension": ".py",
   "mimetype": "text/x-python",
   "name": "python",
   "nbconvert_exporter": "python",
   "pygments_lexer": "ipython3",
   "version": "3.7.6"
  }
 },
 "nbformat": 4,
 "nbformat_minor": 4
}
