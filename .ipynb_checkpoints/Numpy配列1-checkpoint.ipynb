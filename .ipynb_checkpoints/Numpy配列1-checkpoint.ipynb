{
 "cells": [
  {
   "cell_type": "code",
   "execution_count": 1,
   "metadata": {},
   "outputs": [],
   "source": [
    "import numpy as np"
   ]
  },
  {
   "cell_type": "code",
   "execution_count": 7,
   "metadata": {},
   "outputs": [
    {
     "name": "stdout",
     "output_type": "stream",
     "text": [
      "[1 2 3]\n"
     ]
    }
   ],
   "source": [
    "#array()関数で配列を作る\n",
    "#リストから配列を作る\n",
    "a = np.array([1,2,3])\n",
    "a\n",
    "print(a)"
   ]
  },
  {
   "cell_type": "code",
   "execution_count": 11,
   "metadata": {},
   "outputs": [
    {
     "data": {
      "text/plain": [
       "numpy.ndarray"
      ]
     },
     "execution_count": 11,
     "metadata": {},
     "output_type": "execute_result"
    }
   ],
   "source": [
    "#タプルから配列を作る\n",
    "data = (1,2,3)\n",
    "a = np.array(data)\n",
    "a\n",
    "type(a)\n",
    "#print(a)"
   ]
  },
  {
   "cell_type": "code",
   "execution_count": 12,
   "metadata": {},
   "outputs": [
    {
     "data": {
      "text/plain": [
       "dtype('int64')"
      ]
     },
     "execution_count": 12,
     "metadata": {},
     "output_type": "execute_result"
    }
   ],
   "source": [
    "#配列の要素の型を調べる\n",
    "a = np.array([1,2,3])\n",
    "a.dtype"
   ]
  },
  {
   "cell_type": "code",
   "execution_count": 15,
   "metadata": {},
   "outputs": [
    {
     "data": {
      "text/plain": [
       "array([1. , 0. , 1.5])"
      ]
     },
     "execution_count": 15,
     "metadata": {},
     "output_type": "execute_result"
    }
   ],
   "source": [
    "#型が混在すると配列が作れない\n",
    "\n",
    "#intとfloat\n",
    "a = np.array([1,1.5,2]) #全てfloatになる\n",
    "a\n",
    "\n",
    "#文字列と数値\n",
    "b = np.array([\"1\",1.5,2])#全て文字列になる\n",
    "b\n",
    "\n",
    "#論理値と数値\n",
    "c = np.array([True,False,1.5])#全て数値になる\n",
    "c"
   ]
  },
  {
   "cell_type": "code",
   "execution_count": 18,
   "metadata": {},
   "outputs": [
    {
     "data": {
      "text/plain": [
       "array([1. +0.j, 1.5+0.j, 2. +0.j])"
      ]
     },
     "execution_count": 18,
     "metadata": {},
     "output_type": "execute_result"
    }
   ],
   "source": [
    "#要素の型を指定して配列を作る\n",
    "\n",
    "#整数列で作る\n",
    "a = np.array([1,1.5,2],dtype=int)\n",
    "a\n",
    "\n",
    "#浮動小数点型で作る\n",
    "b = np.array([1,2,3],dtype=float)\n",
    "b\n",
    "\n",
    "#複素数型で作る\n",
    "c = np.array([1,1.5,2],dtype=complex)\n",
    "c"
   ]
  },
  {
   "cell_type": "code",
   "execution_count": 20,
   "metadata": {},
   "outputs": [
    {
     "data": {
      "text/plain": [
       "array(['9.12', '10.5', '12.1'], dtype='<U4')"
      ]
     },
     "execution_count": 20,
     "metadata": {},
     "output_type": "execute_result"
    }
   ],
   "source": [
    "#文字列に変換して作る\n",
    "d = np.array([1,1.5,2],dtype=\"<U\")\n",
    "d\n",
    "\n",
    "e = np.array([9.123,10.5,12.11],dtype=\"<U4\") #4文字に詰まる\n",
    "e"
   ]
  },
  {
   "cell_type": "code",
   "execution_count": 21,
   "metadata": {},
   "outputs": [
    {
     "data": {
      "text/plain": [
       "array([0., 1., 2., 3., 4., 5.])"
      ]
     },
     "execution_count": 21,
     "metadata": {},
     "output_type": "execute_result"
    }
   ],
   "source": [
    "#int型の配列をもとにfloat型の配列を作る\n",
    "\n",
    "a_int = np.array([0,1,2,3,4,5])\n",
    "a_float = np.array(a_int,dtype=float) #要素の型を変換\n",
    "a_float"
   ]
  },
  {
   "cell_type": "code",
   "execution_count": 23,
   "metadata": {},
   "outputs": [
    {
     "data": {
      "text/plain": [
       "array([[1, 2, 3],\n",
       "       [4, 5, 6]])"
      ]
     },
     "execution_count": 23,
     "metadata": {},
     "output_type": "execute_result"
    }
   ],
   "source": [
    "#多重リストから2行3列の配列を作る\n",
    "a = np.array([[1,2,3],[4,5,6]])\n",
    "a"
   ]
  },
  {
   "cell_type": "code",
   "execution_count": 24,
   "metadata": {},
   "outputs": [
    {
     "name": "stdout",
     "output_type": "stream",
     "text": [
      "[[10 20 30]\n",
      " [40 50 60]\n",
      " [70 80 90]]\n"
     ]
    }
   ],
   "source": [
    "#3X3の配列を作る\n",
    "line1 = [10,20,30]\n",
    "line2 = [40,50,60]\n",
    "line3 = [70,80,90]\n",
    "a = np.array([line1,line2,line3])\n",
    "print(a)"
   ]
  },
  {
   "cell_type": "code",
   "execution_count": 33,
   "metadata": {},
   "outputs": [
    {
     "data": {
      "text/plain": [
       "array([[1, 2, 3],\n",
       "       [4, 5, 6]])"
      ]
     },
     "execution_count": 33,
     "metadata": {},
     "output_type": "execute_result"
    }
   ],
   "source": [
    "#reshape関数にて1次元配列を2行3列の配列に変換する\n",
    "data = [1,2,3,4,5,6]\n",
    "a = np.array(data) #リストから配列を作る\n",
    "a\n",
    "\n",
    "a = a.reshape(2,3) #2行3列の配列にする\n",
    "a"
   ]
  },
  {
   "cell_type": "code",
   "execution_count": 34,
   "metadata": {},
   "outputs": [
    {
     "data": {
      "text/plain": [
       "array([[1, 2, 3],\n",
       "       [4, 5, 6]])"
      ]
     },
     "execution_count": 34,
     "metadata": {},
     "output_type": "execute_result"
    }
   ],
   "source": [
    "#1行のコードで1次元配列を2行3列の配列に変換する\n",
    "data = [1,2,3,4,5,6]\n",
    "\n",
    "a = np.array(data).reshape(2,3)\n",
    "a"
   ]
  },
  {
   "cell_type": "code",
   "execution_count": 35,
   "metadata": {},
   "outputs": [
    {
     "data": {
      "text/plain": [
       "array([0, 1, 2, 3, 4, 5])"
      ]
     },
     "execution_count": 35,
     "metadata": {},
     "output_type": "execute_result"
    }
   ],
   "source": [
    "#ravel()またはflatten()関数にて多次元配列を1次元配列の戻す\n",
    "\n",
    "#ravel()関数\n",
    "a = np.array([[0,1],[2,3],[4,5]])\n",
    "#a.ravel()\n",
    "\n",
    "#flatten()関数\n",
    "a.flatten()"
   ]
  },
  {
   "cell_type": "code",
   "execution_count": 40,
   "metadata": {},
   "outputs": [
    {
     "data": {
      "text/plain": [
       "2"
      ]
     },
     "execution_count": 40,
     "metadata": {},
     "output_type": "execute_result"
    }
   ],
   "source": [
    "#shape,ndim関数にて配列の構造を調べる\n",
    "a = np.array([[0,1],[2,3],[4,5]])\n",
    "a\n",
    "#a.shape　#3行2列の配列という事がわかる\n",
    "\n",
    "a.ndim #2次元配列という事がわかる"
   ]
  },
  {
   "cell_type": "code",
   "execution_count": 41,
   "metadata": {},
   "outputs": [
    {
     "data": {
      "text/plain": [
       "6"
      ]
     },
     "execution_count": 41,
     "metadata": {},
     "output_type": "execute_result"
    }
   ],
   "source": [
    "#size関数にて要素の個数\n",
    "a = np.array([[0,1],[2,3],[4,5]])\n",
    "a.size"
   ]
  },
  {
   "cell_type": "code",
   "execution_count": 43,
   "metadata": {},
   "outputs": [
    {
     "data": {
      "text/plain": [
       "array([0, 1, 2, 3])"
      ]
     },
     "execution_count": 43,
     "metadata": {},
     "output_type": "execute_result"
    }
   ],
   "source": [
    "#appen()関数にて要素を追加する\n",
    "a = np.array([0,1,2])\n",
    "b = np.append(a,3)  #3を追加する\n",
    "b"
   ]
  },
  {
   "cell_type": "code",
   "execution_count": 44,
   "metadata": {},
   "outputs": [
    {
     "data": {
      "text/plain": [
       "array([0, 1, 2, 3, 4, 5, 6, 7])"
      ]
     },
     "execution_count": 44,
     "metadata": {},
     "output_type": "execute_result"
    }
   ],
   "source": [
    "#配列に同時に複数の値を追加する\n",
    "a = np.array([0,1,2])\n",
    "b = np.append(a,[3,4,5,6,7])\n",
    "b"
   ]
  },
  {
   "cell_type": "code",
   "execution_count": 48,
   "metadata": {},
   "outputs": [
    {
     "data": {
      "text/plain": [
       "array([[1, 2, 3],\n",
       "       [4, 5, 6],\n",
       "       [7, 8, 9]])"
      ]
     },
     "execution_count": 48,
     "metadata": {},
     "output_type": "execute_result"
    }
   ],
   "source": [
    "#axis=0を使用し2X3の配列に行を追加する(列の追加はaxis=1)\n",
    "a = np.array([1,2,3,4,5,6]).reshape(2,3)\n",
    "a\n",
    "\n",
    "b = np.append(a,[[7,8,9]],axis=0) #axis=0にて行を追加\n",
    "b"
   ]
  },
  {
   "cell_type": "code",
   "execution_count": 50,
   "metadata": {},
   "outputs": [
    {
     "data": {
      "text/plain": [
       "array([ 0, 99,  1,  2])"
      ]
     },
     "execution_count": 50,
     "metadata": {},
     "output_type": "execute_result"
    }
   ],
   "source": [
    "#insert()関数にて配列に要素を挿入する\n",
    "a = np.array([0,1,2])\n",
    "b = np.insert(a,1,99) #配列aのインデックス1の位置に99を挿入する\n",
    "b"
   ]
  },
  {
   "cell_type": "code",
   "execution_count": 51,
   "metadata": {},
   "outputs": [
    {
     "data": {
      "text/plain": [
       "array([ 0, 88, 99,  1,  2])"
      ]
     },
     "execution_count": 51,
     "metadata": {},
     "output_type": "execute_result"
    }
   ],
   "source": [
    "#配列にリスト要素を追加する\n",
    "a = np.array([0,1,2])\n",
    "b = np.insert(a,1,[88,99]) #新しい配列bが作られる\n",
    "b"
   ]
  },
  {
   "cell_type": "code",
   "execution_count": 52,
   "metadata": {},
   "outputs": [
    {
     "data": {
      "text/plain": [
       "array(['snak', 'dog', 'cat', 'bird'], dtype='<U4')"
      ]
     },
     "execution_count": 52,
     "metadata": {},
     "output_type": "execute_result"
    }
   ],
   "source": [
    "#文字列を挿入すると最長の文字列に合わせた長さで切れる\n",
    "word = np.array([\"dog\",\"cat\",\"bird\"])\n",
    "new_word = np.insert(word,0,\"snake\") #snakeを挿入してもsnekの4文字で切れる\n",
    "new_word"
   ]
  },
  {
   "cell_type": "code",
   "execution_count": 53,
   "metadata": {},
   "outputs": [
    {
     "data": {
      "text/plain": [
       "array(['dog', 'cat'], dtype='<U4')"
      ]
     },
     "execution_count": 53,
     "metadata": {},
     "output_type": "execute_result"
    }
   ],
   "source": [
    "#delete()関数にて要素を削除する\n",
    "words = np.array([\"dog\",\"cat\",\"bird\"])\n",
    "new_words = np.delete(words,len(words)-1) #要素から1を引くと最後のインデックスが削除される\n",
    "new_words"
   ]
  },
  {
   "cell_type": "code",
   "execution_count": null,
   "metadata": {},
   "outputs": [],
   "source": []
  }
 ],
 "metadata": {
  "kernelspec": {
   "display_name": "Python 3",
   "language": "python",
   "name": "python3"
  },
  "language_info": {
   "codemirror_mode": {
    "name": "ipython",
    "version": 3
   },
   "file_extension": ".py",
   "mimetype": "text/x-python",
   "name": "python",
   "nbconvert_exporter": "python",
   "pygments_lexer": "ipython3",
   "version": "3.7.6"
  }
 },
 "nbformat": 4,
 "nbformat_minor": 4
}
