{
 "cells": [
  {
   "cell_type": "code",
   "execution_count": 31,
   "metadata": {},
   "outputs": [],
   "source": [
    "import numpy as np\n",
    "import math\n",
    "import matplotlib.pyplot as plt"
   ]
  },
  {
   "cell_type": "code",
   "execution_count": 32,
   "metadata": {},
   "outputs": [
    {
     "name": "stdout",
     "output_type": "stream",
     "text": [
      "得点は？：77\n",
      "平均点： 64.9\n",
      "標準偏差： 3.6\n",
      "偏差値： 637.8\n"
     ]
    }
   ],
   "source": [
    "#200人分のデータの標準偏差を入力した得点の偏差値を求める\n",
    "sigma = 3.5 #分散\n",
    "mu = 65 #平均\n",
    "\n",
    "#点数のサンプルデータ（正規分布の乱数で作成）\n",
    "data = sigma * np.random.randn(200) + mu #点数が入った200個の配列\n",
    "x = float(input(\"得点は？：\")) #キーボードからの入力\n",
    "t_score = 10 * (x - data.mean() / data.std()) + 50 #偏差値　std()で標準偏差求めている\n",
    "\n",
    "print(\"平均点：\",round(data.mean(),1))\n",
    "print(\"標準偏差：\",round(data.std(),1)) #標準偏差\n",
    "print(\"偏差値：\",round(t_score,1))"
   ]
  },
  {
   "cell_type": "code",
   "execution_count": 33,
   "metadata": {},
   "outputs": [
    {
     "name": "stdout",
     "output_type": "stream",
     "text": [
      "[False  True False False  True False]\n"
     ]
    }
   ],
   "source": [
    "#5より大きい要素が入っているいちを調べる\n",
    "A = np.array([4,6,3,1,7,3])\n",
    "B = (A > 5) #5より大きい要素が入っている位置をTrueにする\n",
    "print(B)"
   ]
  },
  {
   "cell_type": "code",
   "execution_count": 34,
   "metadata": {},
   "outputs": [
    {
     "name": "stdout",
     "output_type": "stream",
     "text": [
      "[[1 2]\n",
      " [3 4]]\n",
      "[[10 20]\n",
      " [30 40]]\n",
      "[[11 22]\n",
      " [33 44]]\n"
     ]
    }
   ],
   "source": [
    "#同じ行列数の配列の足し算\n",
    "A = np.array([1,2,3,4]).reshape(2,2)\n",
    "print(A)\n",
    "\n",
    "B = np.array([10,20,30,40]).reshape(2,2)\n",
    "print(B)\n",
    "\n",
    "C = A + B #同じ行列数の配列の足し算\n",
    "print(C)"
   ]
  },
  {
   "cell_type": "code",
   "execution_count": 35,
   "metadata": {},
   "outputs": [
    {
     "name": "stdout",
     "output_type": "stream",
     "text": [
      "[[ 10  40]\n",
      " [ 90 160]]\n",
      "[[0.1 0.1]\n",
      " [0.1 0.1]]\n"
     ]
    }
   ],
   "source": [
    "#同じ行列数の配列の掛け算、割り算\n",
    "D = A * B #要素同士の掛け算\n",
    "\n",
    "E = A / B #要素同士の割り算\n",
    "\n",
    "print(D)\n",
    "print(E)"
   ]
  },
  {
   "cell_type": "code",
   "execution_count": 36,
   "metadata": {},
   "outputs": [
    {
     "data": {
      "text/plain": [
       "array([9, 1])"
      ]
     },
     "execution_count": 36,
     "metadata": {},
     "output_type": "execute_result"
    }
   ],
   "source": [
    "#ベクトルaとbを足したベクトルcを求める\n",
    "A = np.array([5,3])\n",
    "B = np.array([4,-2])\n",
    "\n",
    "C = A + B #配列をベクトルとして足し算を行う\n",
    "C"
   ]
  },
  {
   "cell_type": "code",
   "execution_count": 37,
   "metadata": {},
   "outputs": [
    {
     "data": {
      "text/plain": [
       "array([1, 5])"
      ]
     },
     "execution_count": 37,
     "metadata": {},
     "output_type": "execute_result"
    }
   ],
   "source": [
    "#ベクトルaからbを引いたベクトルcを求める\n",
    "C = A - B \n",
    "C"
   ]
  },
  {
   "cell_type": "code",
   "execution_count": 38,
   "metadata": {},
   "outputs": [
    {
     "name": "stdout",
     "output_type": "stream",
     "text": [
      "[[1 2]\n",
      " [3 4]]\n",
      "[100 200]\n",
      "[[101 202]\n",
      " [103 204]]\n"
     ]
    }
   ],
   "source": [
    "#行数が足りない配列を足す\n",
    "A = np.array([1,2,3,4]).reshape(2,2) #2行2列の配列\n",
    "print(A)\n",
    "\n",
    "B = np.array([100,200]) #1行2列の配列\n",
    "print(B)\n",
    "\n",
    "C = A + B #行数が足りない配列を足す\n",
    "print(C)\n",
    "\n",
    "#演算する為に足りない行の値が補われる（ブロードキャスト）"
   ]
  },
  {
   "cell_type": "code",
   "execution_count": 39,
   "metadata": {},
   "outputs": [
    {
     "name": "stdout",
     "output_type": "stream",
     "text": [
      "[[1 2 3]\n",
      " [4 5 6]]\n",
      "[[10]\n",
      " [20]]\n",
      "[[11 12 13]\n",
      " [24 25 26]]\n"
     ]
    }
   ],
   "source": [
    "#列数が足りない配列を足す\n",
    "A = np.array([1,2,3,4,5,6]).reshape(2,3) #2行3列の配列\n",
    "print(A)\n",
    "\n",
    "B = np.array([10,20]).reshape(2,1) #2行1列の配列\n",
    "print(B)\n",
    "\n",
    "C = A + B #列数がたりてない配列を足す\n",
    "print(C)\n",
    "\n",
    "#ただしブロードキャストが上手くいくのは列が足りてない配列が1X1の時のみ"
   ]
  },
  {
   "cell_type": "code",
   "execution_count": 42,
   "metadata": {},
   "outputs": [
    {
     "name": "stdout",
     "output_type": "stream",
     "text": [
      "[[1 2]\n",
      " [3 4]]\n",
      "[[5 6]\n",
      " [7 8]]\n",
      "[[19 22]\n",
      " [43 50]]\n"
     ]
    }
   ],
   "source": [
    "#dot()関数を使って行列の内積を求める\n",
    "A = np.array([[1,2],[3,4]])\n",
    "print(A)\n",
    "\n",
    "B = np.array([[5,6],[7,8]])\n",
    "print(B)\n",
    "\n",
    "C = np.dot(A,B) #行列A,Bの内積を計算\n",
    "print(C)#"
   ]
  },
  {
   "cell_type": "code",
   "execution_count": 43,
   "metadata": {},
   "outputs": [
    {
     "data": {
      "text/plain": [
       "173.2"
      ]
     },
     "execution_count": 43,
     "metadata": {},
     "output_type": "execute_result"
    }
   ],
   "source": [
    "#仕事を内積dot()関数で求める\n",
    "F = np.array([8.66,5.0]) #ベクトルF\n",
    "S = np.array([20,0]) #ベクトルS\n",
    "W = np.dot(F,S) #仕事（内積）Wを求める\n",
    "W"
   ]
  },
  {
   "cell_type": "code",
   "execution_count": 44,
   "metadata": {},
   "outputs": [
    {
     "data": {
      "text/plain": [
       "array([-2,  1,  1])"
      ]
     },
     "execution_count": 44,
     "metadata": {},
     "output_type": "execute_result"
    }
   ],
   "source": [
    "#cross()関数を使って3次元ベクトルa,bの外積となるベクトルを求める\n",
    "a = np.array([1,2,0])\n",
    "b = np.array([0,1,-1])\n",
    "\n",
    "c = np.cross(a,b) #外積\n",
    "c"
   ]
  },
  {
   "cell_type": "code",
   "execution_count": 45,
   "metadata": {},
   "outputs": [
    {
     "data": {
      "text/plain": [
       "array([0.        , 0.27635565, 0.53963205, 0.75128041, 0.9086335 ,\n",
       "       0.98865176, 0.9903268 , 0.91341336, 0.75888071, 0.54097222,\n",
       "       0.28747801, 0.00159265])"
      ]
     },
     "execution_count": 45,
     "metadata": {},
     "output_type": "execute_result"
    }
   ],
   "source": [
    "#math.sin() と　numpy.sin()の違い\n",
    "data = [0.0,0.28,0.57,0.85,1.14,1.42,1.71,1.99,2.28,2.57,2.85,3.14]\n",
    "\n",
    "#math.sin(data) #math.sin()は一度にリスト内の値を計算出来ない\n",
    "\n",
    "np.sin(data) #numpy.sin()はリスト内の値を一度に計算できる"
   ]
  },
  {
   "cell_type": "code",
   "execution_count": 47,
   "metadata": {},
   "outputs": [
    {
     "data": {
      "image/png": "[encoded data removed]",
      "text/plain": [
       "<Figure size 432x288 with 1 Axes>"
      ]
     },
     "metadata": {
      "needs_background": "light"
     },
     "output_type": "display_data"
    }
   ],
   "source": [
    "#配列の値でsinグラフを描く\n",
    "X = np.linspace(-np.pi,np.pi,180)\n",
    "Y = np.sin(X)\n",
    "\n",
    "plt.plot(X,Y)\n",
    "plt.savefig(\"p371.png\")\n",
    "plt.show()"
   ]
  },
  {
   "cell_type": "code",
   "execution_count": null,
   "metadata": {},
   "outputs": [],
   "source": []
  },
  {
   "cell_type": "code",
   "execution_count": null,
   "metadata": {},
   "outputs": [],
   "source": []
  },
  {
   "cell_type": "code",
   "execution_count": null,
   "metadata": {},
   "outputs": [],
   "source": []
  },
  {
   "cell_type": "code",
   "execution_count": null,
   "metadata": {},
   "outputs": [],
   "source": []
  }
 ],
 "metadata": {
  "kernelspec": {
   "display_name": "Python 3",
   "language": "python",
   "name": "python3"
  },
  "language_info": {
   "codemirror_mode": {
    "name": "ipython",
    "version": 3
   },
   "file_extension": ".py",
   "mimetype": "text/x-python",
   "name": "python",
   "nbconvert_exporter": "python",
   "pygments_lexer": "ipython3",
   "version": "3.7.6"
  }
 },
 "nbformat": 4,
 "nbformat_minor": 4
}
