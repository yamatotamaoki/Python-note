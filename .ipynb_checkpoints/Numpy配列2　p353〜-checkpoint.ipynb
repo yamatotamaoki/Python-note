{
 "cells": [
  {
   "cell_type": "code",
   "execution_count": 2,
   "metadata": {},
   "outputs": [],
   "source": [
    "import numpy as np"
   ]
  },
  {
   "cell_type": "code",
   "execution_count": 5,
   "metadata": {},
   "outputs": [
    {
     "data": {
      "text/plain": [
       "50"
      ]
     },
     "execution_count": 5,
     "metadata": {},
     "output_type": "execute_result"
    }
   ],
   "source": [
    "#配列の先頭、2番目、最後の要素を調べる\n",
    "a = np.array([10,20,30,40,50])\n",
    "a[0]\n",
    "a[1]\n",
    "a[-1]"
   ]
  },
  {
   "cell_type": "code",
   "execution_count": 14,
   "metadata": {},
   "outputs": [
    {
     "data": {
      "text/plain": [
       "array([10, 20, 99, 11, 50])"
      ]
     },
     "execution_count": 14,
     "metadata": {},
     "output_type": "execute_result"
    }
   ],
   "source": [
    "#配列の3番目の値を99に変更する\n",
    "a = np.array([10,20,30,40,50])\n",
    "a[2] = 99\n",
    "a[3] = 11\n",
    "a"
   ]
  },
  {
   "cell_type": "code",
   "execution_count": 17,
   "metadata": {},
   "outputs": [
    {
     "data": {
      "text/plain": [
       "60"
      ]
     },
     "execution_count": 17,
     "metadata": {},
     "output_type": "execute_result"
    }
   ],
   "source": [
    "#3行3列目の要素にアクセスする\n",
    "data = [10,20,30,40,50,60,70,80,90]\n",
    "a = np.array(data).reshape(3,3)    #3行3列の配列に変換\n",
    "a\n",
    "a[0,0]\n",
    "a[1,2]"
   ]
  },
  {
   "cell_type": "code",
   "execution_count": 20,
   "metadata": {},
   "outputs": [
    {
     "data": {
      "text/plain": [
       "array([[10],\n",
       "       [20],\n",
       "       [30],\n",
       "       [40]])"
      ]
     },
     "execution_count": 20,
     "metadata": {},
     "output_type": "execute_result"
    }
   ],
   "source": [
    "#1次元配列aから2次元配列bを作る\n",
    "a = np.array([10,20,30,40])\n",
    "b = a.reshape(4,1)  #配列aから配列bを作る\n",
    "a\n",
    "b"
   ]
  },
  {
   "cell_type": "code",
   "execution_count": 24,
   "metadata": {},
   "outputs": [
    {
     "data": {
      "text/plain": [
       "array([99, 20, 30, 40])"
      ]
     },
     "execution_count": 24,
     "metadata": {},
     "output_type": "execute_result"
    }
   ],
   "source": [
    "#reshape()で作った配列bを変更すると元の配列aも変更される\n",
    "a = np.array([10,20,30,40])\n",
    "b = a.reshape(4,1)\n",
    "\n",
    "a is b\n",
    "\n",
    "b[0,0] = 99\n",
    "b\n",
    "a"
   ]
  },
  {
   "cell_type": "code",
   "execution_count": 31,
   "metadata": {},
   "outputs": [
    {
     "data": {
      "text/plain": [
       "array([ 0, 20, 40, 60, 80])"
      ]
     },
     "execution_count": 31,
     "metadata": {},
     "output_type": "execute_result"
    }
   ],
   "source": [
    "#配列をスライスする\n",
    "data = np.array([0,10,20,30,40,50,60,70,80,90])\n",
    "data[:] #全ての要素（複製したことになる）\n",
    "\n",
    "data[:4] #最初から3番目までのインデックス\n",
    "\n",
    "data[4:] #インデックス番号4番目以降\n",
    "\n",
    "data[3:7] #インデックス番号3〜6番目まで\n",
    "\n",
    "data[::2] #先頭から1個飛び"
   ]
  },
  {
   "cell_type": "code",
   "execution_count": 32,
   "metadata": {},
   "outputs": [
    {
     "data": {
      "text/plain": [
       "array([90, 80, 70, 60, 50, 40, 30, 20, 10,  0])"
      ]
     },
     "execution_count": 32,
     "metadata": {},
     "output_type": "execute_result"
    }
   ],
   "source": [
    "#要素を逆順にした配列を作る\n",
    "data = np.array([0,10,20,30,40,50,60,70,80,90])\n",
    "\n",
    "data[::-1] #末尾から一個ずつ取り出す"
   ]
  },
  {
   "cell_type": "code",
   "execution_count": 36,
   "metadata": {},
   "outputs": [
    {
     "data": {
      "text/plain": [
       "array([[50, 60],\n",
       "       [80, 90]])"
      ]
     },
     "execution_count": 36,
     "metadata": {},
     "output_type": "execute_result"
    }
   ],
   "source": [
    "#多次元配列のスライス\n",
    "data = [10,20,30,40,50,60,70,80,90]\n",
    "a = np.array(data).reshape(3,3)\n",
    "\n",
    "a[:2,] #0~1行目の全ての列\n",
    "\n",
    "a[:,1:] #全ての行1列目以降\n",
    "\n",
    "a[1:,1:] #1行目以降、1列目以降"
   ]
  },
  {
   "cell_type": "code",
   "execution_count": 38,
   "metadata": {},
   "outputs": [
    {
     "data": {
      "text/plain": [
       "array([[2, 3],\n",
       "       [2, 4]])"
      ]
     },
     "execution_count": 38,
     "metadata": {},
     "output_type": "execute_result"
    }
   ],
   "source": [
    "#astype()関数にてスライスと同時に型変換する\n",
    "data = [2.1,3.5,2.5,4.3,5.1,1.6]\n",
    "a = np.array(data).reshape(3,2)\n",
    "\n",
    "a2 = a[:2,].astype(int) #最初の2行を取り出す際に整数に変換する\n",
    "a2 "
   ]
  },
  {
   "cell_type": "code",
   "execution_count": 39,
   "metadata": {},
   "outputs": [
    {
     "name": "stdout",
     "output_type": "stream",
     "text": [
      "0\n",
      "10\n",
      "20\n",
      "30\n",
      "40\n",
      "50\n",
      "60\n",
      "70\n",
      "80\n",
      "90\n"
     ]
    }
   ],
   "source": [
    "#配列の要素を順に取り出す\n",
    "data = np.array([0,10,20,30,40,50,60,70,80,90])\n",
    "for item in data :\n",
    "    print(item)"
   ]
  },
  {
   "cell_type": "code",
   "execution_count": 40,
   "metadata": {},
   "outputs": [
    {
     "name": "stdout",
     "output_type": "stream",
     "text": [
      "1 flower\n",
      "2 bird\n",
      "3 wind\n",
      "4 moon\n"
     ]
    }
   ],
   "source": [
    "#enumerate()関数にて要素を順に取り出す（繰り返し回数を表示して）\n",
    "words = [\"flower\",\"bird\",\"wind\",\"moon\"]\n",
    "for i, item in enumerate(words,1) :\n",
    "    print(i,item)"
   ]
  },
  {
   "cell_type": "code",
   "execution_count": 43,
   "metadata": {},
   "outputs": [
    {
     "name": "stdout",
     "output_type": "stream",
     "text": [
      "[[10 20 30]\n",
      " [40 50 60]]\n",
      "(0, 0) 10\n",
      "(0, 1) 20\n",
      "(0, 2) 30\n",
      "(1, 0) 40\n",
      "(1, 1) 50\n",
      "(1, 2) 60\n"
     ]
    }
   ],
   "source": [
    "#ndenumerate()関数にて多次元配列の要素を順に取り出す\n",
    "data = np.array([10,20,30,40,50,60]).reshape(2,3)\n",
    "print(data)\n",
    "\n",
    "for i,item in np.ndenumerate(data) : #多次元配列から位置と要素を取り出す\n",
    "    print(i,item)  #iには（行、列）が入る"
   ]
  },
  {
   "cell_type": "code",
   "execution_count": 44,
   "metadata": {},
   "outputs": [
    {
     "data": {
      "text/plain": [
       "array([5, 9, 6, 5, 5, 8, 9, 7, 9])"
      ]
     },
     "execution_count": 44,
     "metadata": {},
     "output_type": "execute_result"
    }
   ],
   "source": [
    "#比較式にて5以上の値を抽出する\n",
    "a = np.array([3,1,4,1,5,9,2,6,5,3,5,8,9,7,9,3])\n",
    "a[a>=5] #5以上の値を抽出する"
   ]
  },
  {
   "cell_type": "code",
   "execution_count": 48,
   "metadata": {},
   "outputs": [
    {
     "data": {
      "text/plain": [
       "array([  1,  67,   3,   9,  35,  63,  75,  43,  35, 657,  93])"
      ]
     },
     "execution_count": 48,
     "metadata": {},
     "output_type": "execute_result"
    }
   ],
   "source": [
    "#偶数、奇数を分ける\n",
    "a = np.array([2,1,54,6,334,67,3,2,6,8,9,35,74,63,75,43,546,76,35,36,26,74,356,7552,657,354,93])\n",
    "\n",
    "a[a%2 == 0] #偶数\n",
    "\n",
    "a[a%2 == 1] #奇数"
   ]
  },
  {
   "cell_type": "code",
   "execution_count": 52,
   "metadata": {},
   "outputs": [
    {
     "data": {
      "text/plain": [
       "array([9, 6, 8, 9, 7, 9])"
      ]
     },
     "execution_count": 52,
     "metadata": {},
     "output_type": "execute_result"
    }
   ],
   "source": [
    "#多次元配列から5より大きい値を抽出する\n",
    "a = np.array([3,1,4,1,5,9,2,6,5,3,5,8,9,7,9,3])\n",
    "b = a.reshape(4,4)\n",
    "b\n",
    "\n",
    "b[b>5]"
   ]
  },
  {
   "cell_type": "code",
   "execution_count": 53,
   "metadata": {},
   "outputs": [
    {
     "data": {
      "text/plain": [
       "array([5, 9, 5, 5, 9, 7, 9])"
      ]
     },
     "execution_count": 53,
     "metadata": {},
     "output_type": "execute_result"
    }
   ],
   "source": [
    "#5以上の奇数を取り出す\n",
    "a = np.array([3,1,4,1,5,9,2,6,5,3,5,8,9,7,9,3])\n",
    "a[(a>=5)&(a%2==1)] #論理積（5以上かつ奇数）"
   ]
  },
  {
   "cell_type": "code",
   "execution_count": 54,
   "metadata": {},
   "outputs": [
    {
     "data": {
      "text/plain": [
       "array([3, 4, 9, 2, 6, 3, 8, 9, 9, 3])"
      ]
     },
     "execution_count": 54,
     "metadata": {},
     "output_type": "execute_result"
    }
   ],
   "source": [
    "#2または3の倍数\n",
    "a[(a%2==0) | (a%3==0)] #論理和（2または3の倍数）"
   ]
  },
  {
   "cell_type": "code",
   "execution_count": 55,
   "metadata": {},
   "outputs": [
    {
     "data": {
      "text/plain": [
       "array([1, 4, 1, 5, 2, 5, 5, 8, 7])"
      ]
     },
     "execution_count": 55,
     "metadata": {},
     "output_type": "execute_result"
    }
   ],
   "source": [
    "#3の倍数ではない値\n",
    "a[~(a%3==0)] #論理否定（3の倍数ではない）"
   ]
  },
  {
   "cell_type": "code",
   "execution_count": 60,
   "metadata": {},
   "outputs": [
    {
     "data": {
      "text/plain": [
       "array([[1, 1, 0, 1],\n",
       "       [1, 1, 0, 0],\n",
       "       [1, 1, 1, 0],\n",
       "       [1, 1, 1, 1]])"
      ]
     },
     "execution_count": 60,
     "metadata": {},
     "output_type": "execute_result"
    }
   ],
   "source": [
    "#条件に合う要素を変更する。偶数は0、奇数は1に置き換える\n",
    "a = np.array([3,1,4,1,5,9,2,6,5,3,5,8,9,7,9,3])\n",
    "a = a.reshape(4,4)\n",
    "a\n",
    "\n",
    "a[a%2==0] = 0 #偶数を0に変換\n",
    "a\n",
    "\n",
    "a[a%2==1] = 1 #奇数を1に変換\n",
    "a"
   ]
  },
  {
   "cell_type": "code",
   "execution_count": 62,
   "metadata": {},
   "outputs": [
    {
     "data": {
      "text/plain": [
       "array([1, 1, 2, 3, 3, 3, 4, 5, 5, 5, 6, 7, 8, 9, 9, 9])"
      ]
     },
     "execution_count": 62,
     "metadata": {},
     "output_type": "execute_result"
    }
   ],
   "source": [
    "#sort()メソッドにて配列を昇順にソートする\n",
    "a = np.array([3,1,4,1,5,9,2,6,5,3,5,8,9,7,9,3]) #要素を昇順に並べる\n",
    "a.sort()\n",
    "a"
   ]
  },
  {
   "cell_type": "code",
   "execution_count": 63,
   "metadata": {},
   "outputs": [
    {
     "data": {
      "text/plain": [
       "array([ 2,  3,  3,  4,  4,  6,  7,  7,  7, 35, 43, 74, 74, 95])"
      ]
     },
     "execution_count": 63,
     "metadata": {},
     "output_type": "execute_result"
    }
   ],
   "source": [
    "#ソート済みの配列を作る\n",
    "a = np.sort([4,2,6,4,7,3,7,3,7,35,74,74,95,43])\n",
    "a"
   ]
  },
  {
   "cell_type": "code",
   "execution_count": 64,
   "metadata": {},
   "outputs": [
    {
     "data": {
      "text/plain": [
       "array([9, 9, 9, 8, 7, 6, 5, 5, 5, 4, 3, 3, 3, 2, 1])"
      ]
     },
     "execution_count": 64,
     "metadata": {},
     "output_type": "execute_result"
    }
   ],
   "source": [
    "#降順に配列を作る\n",
    "a = np.array([3,1,4,5,9,2,6,5,3,5,8,9,7,9,3])\n",
    "a_decend = np.sort(a)[::-1] #ソートした後で逆順に並べ替える\n",
    "a_decend"
   ]
  },
  {
   "cell_type": "code",
   "execution_count": 66,
   "metadata": {},
   "outputs": [
    {
     "name": "stdout",
     "output_type": "stream",
     "text": [
      "[[10 20]\n",
      " [30 40]]\n",
      "[[15 25]\n",
      " [35 45]]\n"
     ]
    }
   ],
   "source": [
    "#配列の全ての要素に5を足す\n",
    "A = np.array([10,20,30,40]).reshape(2,2)\n",
    "print(A)\n",
    "\n",
    "B = A + 5 #配列の要素に5を足す\n",
    "print(B)"
   ]
  },
  {
   "cell_type": "code",
   "execution_count": 69,
   "metadata": {},
   "outputs": [
    {
     "data": {
      "text/plain": [
       "array([[2., 4.],\n",
       "       [6., 8.]])"
      ]
     },
     "execution_count": 69,
     "metadata": {},
     "output_type": "execute_result"
    }
   ],
   "source": [
    "#配列の全ての要素に引き算、掛け算、割り算を行う\n",
    "A - 5\n",
    "\n",
    "A * 5\n",
    "\n",
    "A/5"
   ]
  },
  {
   "cell_type": "code",
   "execution_count": 70,
   "metadata": {},
   "outputs": [
    {
     "data": {
      "text/plain": [
       "array([5, 3])"
      ]
     },
     "execution_count": 70,
     "metadata": {},
     "output_type": "execute_result"
    }
   ],
   "source": [
    "#ベクトルaを行列で表す\n",
    "p0 = np.array((1,1)) #点p0の座標\n",
    "p1 = np.array((6,4)) #点p1の座標\n",
    "A = p1 - p0          #ベクトルaを示す配列\n",
    "A"
   ]
  },
  {
   "cell_type": "code",
   "execution_count": 71,
   "metadata": {},
   "outputs": [
    {
     "data": {
      "text/plain": [
       "5.830951894845301"
      ]
     },
     "execution_count": 71,
     "metadata": {},
     "output_type": "execute_result"
    }
   ],
   "source": [
    "#np.linalg.norm()関数にてベクトルaの長さ\n",
    "a_norm = np.linalg.norm(A)\n",
    "a_norm"
   ]
  },
  {
   "cell_type": "code",
   "execution_count": 73,
   "metadata": {},
   "outputs": [
    {
     "data": {
      "text/plain": [
       "11.661903789690601"
      ]
     },
     "execution_count": 73,
     "metadata": {},
     "output_type": "execute_result"
    }
   ],
   "source": [
    "#ベクトルaの2倍の長さのベクトル\n",
    "A2 = A*2\n",
    "A2\n",
    "\n",
    "a2_norm = np.linalg.norm(A*2)\n",
    "a2_norm"
   ]
  },
  {
   "cell_type": "code",
   "execution_count": 77,
   "metadata": {},
   "outputs": [
    {
     "name": "stdout",
     "output_type": "stream",
     "text": [
      "[[56 45 83]\n",
      " [67 59 41]]\n"
     ]
    },
    {
     "data": {
      "text/plain": [
       "array([184, 167])"
      ]
     },
     "execution_count": 77,
     "metadata": {},
     "output_type": "execute_result"
    }
   ],
   "source": [
    "#sum()メソッドにて配列の要素を合計する\n",
    "A =np.array([56,45,83,67,59,41]).reshape(2,3)\n",
    "print(A)\n",
    "\n",
    "A.sum() #全体の合計\n",
    "\n",
    "A.sum(0) #各列の合計\n",
    "\n",
    "A.sum(1) #各行の合計"
   ]
  },
  {
   "cell_type": "code",
   "execution_count": 85,
   "metadata": {},
   "outputs": [
    {
     "data": {
      "text/plain": [
       "array([61.33333333, 55.66666667])"
      ]
     },
     "execution_count": 85,
     "metadata": {},
     "output_type": "execute_result"
    }
   ],
   "source": [
    "#max(),min(),mean()メソッドに配列の最大値、最小値、平均値を求める\n",
    "A.max() #全体の最大値\n",
    "\n",
    "A.min() #全体の最小値\n",
    "\n",
    "A.mean() #全体の平均\n",
    "\n",
    "A.max(0) #各列の最大値\n",
    "\n",
    "A.min(0) #各列の最小値\n",
    "\n",
    "A.mean(0) #各列の平均値\n",
    "\n",
    "A.max(1) #各行の最大値\n",
    "\n",
    "A.min(1) #各行の最小値\n",
    "\n",
    "A.mean(1) #各行の平均値"
   ]
  },
  {
   "cell_type": "code",
   "execution_count": 87,
   "metadata": {},
   "outputs": [
    {
     "data": {
      "text/plain": [
       "array([83, 67])"
      ]
     },
     "execution_count": 87,
     "metadata": {},
     "output_type": "execute_result"
    }
   ],
   "source": [
    "#numpyの関数を使って配列の最大値を求める\n",
    "np.sum(A) #Aの合計\n",
    "\n",
    "np.max(A,1) #Aの各行の最大値"
   ]
  },
  {
   "cell_type": "code",
   "execution_count": null,
   "metadata": {},
   "outputs": [],
   "source": []
  },
  {
   "cell_type": "code",
   "execution_count": null,
   "metadata": {},
   "outputs": [],
   "source": []
  },
  {
   "cell_type": "code",
   "execution_count": null,
   "metadata": {},
   "outputs": [],
   "source": []
  },
  {
   "cell_type": "code",
   "execution_count": null,
   "metadata": {},
   "outputs": [],
   "source": []
  }
 ],
 "metadata": {
  "kernelspec": {
   "display_name": "Python 3",
   "language": "python",
   "name": "python3"
  },
  "language_info": {
   "codemirror_mode": {
    "name": "ipython",
    "version": 3
   },
   "file_extension": ".py",
   "mimetype": "text/x-python",
   "name": "python",
   "nbconvert_exporter": "python",
   "pygments_lexer": "ipython3",
   "version": "3.7.6"
  }
 },
 "nbformat": 4,
 "nbformat_minor": 4
}
