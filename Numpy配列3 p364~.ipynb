{
 "cells": [
  {
   "cell_type": "code",
   "execution_count": 1,
   "metadata": {},
   "outputs": [],
   "source": [
    "import numpy as np"
   ]
  },
  {
   "cell_type": "code",
   "execution_count": 2,
   "metadata": {},
   "outputs": [
    {
     "name": "stdout",
     "output_type": "stream",
     "text": [
      "得点は？：23\n",
      "平均点： 65.1\n",
      "標準偏差： 3.4\n",
      "偏差値： 86.7\n"
     ]
    }
   ],
   "source": [
    "#200人分のデータの標準偏差を入力した得点の偏差値を求める\n",
    "sigma = 3.5 #分散\n",
    "mu = 65 #平均\n",
    "\n",
    "#点数のサンプルデータ（正規分布の乱数で作成）\n",
    "data = sigma * np.random.randn(200) + mu #点数が入った200個の配列\n",
    "x = float(input(\"得点は？：\")) #キーボードからの入力\n",
    "t_score = 10 * (x - data.mean() / data.std()) + 50 #偏差値　std()で標準偏差求めている\n",
    "\n",
    "print(\"平均点：\",round(data.mean(),1))\n",
    "print(\"標準偏差：\",round(data.std(),1)) #標準偏差\n",
    "print(\"偏差値：\",round(t_score,1))"
   ]
  },
  {
   "cell_type": "code",
   "execution_count": null,
   "metadata": {},
   "outputs": [],
   "source": []
  },
  {
   "cell_type": "code",
   "execution_count": null,
   "metadata": {},
   "outputs": [],
   "source": []
  },
  {
   "cell_type": "code",
   "execution_count": null,
   "metadata": {},
   "outputs": [],
   "source": []
  },
  {
   "cell_type": "code",
   "execution_count": null,
   "metadata": {},
   "outputs": [],
   "source": []
  },
  {
   "cell_type": "code",
   "execution_count": null,
   "metadata": {},
   "outputs": [],
   "source": []
  },
  {
   "cell_type": "code",
   "execution_count": null,
   "metadata": {},
   "outputs": [],
   "source": []
  }
 ],
 "metadata": {
  "kernelspec": {
   "display_name": "Python 3",
   "language": "python",
   "name": "python3"
  },
  "language_info": {
   "codemirror_mode": {
    "name": "ipython",
    "version": 3
   },
   "file_extension": ".py",
   "mimetype": "text/x-python",
   "name": "python",
   "nbconvert_exporter": "python",
   "pygments_lexer": "ipython3",
   "version": "3.7.6"
  }
 },
 "nbformat": 4,
 "nbformat_minor": 4
}
